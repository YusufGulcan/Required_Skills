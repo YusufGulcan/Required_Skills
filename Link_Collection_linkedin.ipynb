{
 "cells": [
  {
   "cell_type": "code",
   "execution_count": 1,
   "metadata": {},
   "outputs": [],
   "source": [
    "from selenium import webdriver\n",
    "from selenium.webdriver.common.by import By\n",
    "from selenium.webdriver.common.keys import Keys\n",
    "from selenium.webdriver.chrome.options import Options\n",
    "from selenium.webdriver.chrome.service import Service\n",
    "from selenium.webdriver.support.wait import WebDriverWait\n",
    "from selenium.webdriver.common.keys import Keys\n",
    "import time\n",
    "import pandas as pd\n",
    "from numpy import e\n"
   ]
  },
  {
   "cell_type": "code",
   "execution_count": 39,
   "metadata": {},
   "outputs": [],
   "source": [
    "# Set path Selenium\n",
    "CHROMEDRIVER_PATH = '/usr/local/bin/chromedriver'"
   ]
  },
  {
   "cell_type": "code",
   "execution_count": 85,
   "metadata": {},
   "outputs": [],
   "source": [
    "\n",
    "\n",
    "def job_posts(number):\n",
    "    driver = webdriver.Chrome()\n",
    "    links = []\n",
    "    position_names = []\n",
    "    companies = []\n",
    "    locations = []  \n",
    "    \n",
    "    path1 = f'https://www.linkedin.com/jobs/search?keywords=Data%20Scientist&location=United%20States'\n",
    "    driver.get(path1)\n",
    "    \n",
    "    i = 0\n",
    "    \n",
    "    while i < number:\n",
    "        html = driver.find_element(By.TAG_NAME,'html')\n",
    "        html.send_keys(Keys.END)\n",
    "        i = i+1\n",
    "        try:\n",
    "            t = driver.find_element(By.XPATH,'//*[@id=\"main-content\"]/section[2]/button')\n",
    "            t.click()\n",
    "            time.sleep(2)\n",
    "        except:\n",
    "            pass\n",
    "            time.sleep(3)\n",
    "\n",
    "            \n",
    "    \n",
    "    block = driver.find_element(By.XPATH,'//*[@id=\"main-content\"]/section[2]/ul')\n",
    "    job_list = block.find_elements(By.CLASS_NAME, 'base-card')\n",
    "    print(len(job_list))\n",
    "    \n",
    "    try:\n",
    "\n",
    "        for job in job_list:\n",
    "            try:\n",
    "                link = job.find_element(By.CLASS_NAME, 'base-card__full-link').get_attribute('href')\n",
    "                links.append(link)\n",
    "            except:\n",
    "                links.append(None)\n",
    "                ValueError('no link')\n",
    "            try:\n",
    "                position_name = job.find_element(By.TAG_NAME,'span').text\n",
    "                position_names.append(position_name)\n",
    "            except:\n",
    "                position_names.append(None)\n",
    "                ValueError('no pos name')\n",
    "            try:\n",
    "                company = job.find_element(By.CLASS_NAME,'hidden-nested-link').text\n",
    "                companies.append(company)\n",
    "            except:\n",
    "                companies.append(None)\n",
    "                ValueError('no company')\n",
    "            try:\n",
    "                location = job.find_element(By.CLASS_NAME,'job-search-card__location').text\n",
    "                locations.append(location)\n",
    "            except:\n",
    "                locations.append(None)\n",
    "                ValueError('no location')\n",
    "\n",
    "    except:\n",
    "        e = 'no path'\n",
    "        ValueError(e)\n",
    "        print(e)\n",
    "\n",
    "\n",
    "    data = pd.DataFrame({'Position':position_names,\n",
    "            'Company':companies,\n",
    "            'Location':locations,\n",
    "            'Link':links})\n",
    "\n",
    "        \n",
    "    return data"
   ]
  },
  {
   "cell_type": "code",
   "execution_count": 95,
   "metadata": {},
   "outputs": [
    {
     "name": "stdout",
     "output_type": "stream",
     "text": [
      "Scraping page number - 0.0\n",
      "1000\n"
     ]
    }
   ],
   "source": [
    "dataframe=job_posts(50)\n",
    "dataframe.to_csv('/home/jess/Documents/linked_links.csv')"
   ]
  },
  {
   "cell_type": "code",
   "execution_count": null,
   "metadata": {},
   "outputs": [],
   "source": [
    "df = pd.read_csv('/home/jess/Documents/linked_links.csv')\n",
    "links=df.Link.tolist()"
   ]
  },
  {
   "cell_type": "code",
   "execution_count": null,
   "metadata": {},
   "outputs": [],
   "source": [
    "driver = webdriver.Chrome()\n",
    "levels = []\n",
    "linkss =[] \n",
    "employment = []\n",
    "job_functions = []\n",
    "industries = []\n",
    "contents = []\n",
    "\n",
    "for link in links:\n",
    "    try:\n",
    "        driver.get(link)\n",
    "        driver.find_element(By.XPATH,'//*[@id=\"main-content\"]/section[1]/div/div/section[1]/div/div/section/button[1]').click()\n",
    "        time.sleep(1)     \n",
    "        try:\n",
    "            linkss.append(link)\n",
    "        except:\n",
    "            linkss.append(None)\n",
    "            ValueError('No link')\n",
    "\n",
    "        try:\n",
    "            Seniority_Level = driver.find_element(By.XPATH,'//*[@id=\"main-content\"]/section[1]/div/div[1]/section[1]/div/ul/li[1]/span').text\n",
    "            levels.append(Seniority_Level)\n",
    "        except:\n",
    "            levels.append(None)\n",
    "            ValueError('No level')\n",
    "        try:\n",
    "            Employment_Type = driver.find_element(By.XPATH,'//*[@id=\"main-content\"]/section[1]/div/div[1]/section[1]/div/ul/li[2]/span').text\n",
    "            employment.append(Employment_Type)\n",
    "        except:\n",
    "            employment.append(None)\n",
    "            ValueError('no employment')\n",
    "        \n",
    "        try:\n",
    "            Job_Function = driver.find_element(By.XPATH,'//*[@id=\"main-content\"]/section[1]/div/div[1]/section[1]/div/ul/li[3]/span').text\n",
    "            job_functions.append(Job_Function)\n",
    "        except:\n",
    "            job_functions.append(None)\n",
    "            ValueError('no job function')\n",
    "        \n",
    "        try:\n",
    "            Industry = driver.find_element(By.XPATH,'//*[@id=\"main-content\"]/section[1]/div/div[1]/section[1]/div/ul/li[4]/span').text\n",
    "            industries.append(Industry)\n",
    "        except:\n",
    "            industries.append(None)\n",
    "            ValueError('no industry')     \n",
    "\n",
    "        try:\n",
    "            content=driver.find_element(By.CLASS_NAME,'show-more-less-html__markup').text\n",
    "            contents.append(content)\n",
    "        except:\n",
    "            contents.append(None)\n",
    "            ValueError('no content')     \n",
    "\n",
    "    except:\n",
    "        ValueError('smthng is wrong')\n",
    "    time.sleep(5)\n",
    "\n",
    "c_data = pd.DataFrame({'links':linkss,\n",
    "                        'content':contents,\n",
    "                        'level':levels,\n",
    "                        'job_function':job_functions,\n",
    "                        'industries':industries,\n",
    "                        'employment':employment\n",
    "\n",
    "})\n",
    "c_data"
   ]
  },
  {
   "cell_type": "code",
   "execution_count": null,
   "metadata": {},
   "outputs": [],
   "source": [
    "c_data.to_csv('/home/jess/Documents/c_data.csv')\n",
    "\n",
    "df_merged = c_data.merge(dataframe,how='left',right_on='Link',left_on='links')\n",
    "df_merged = df_merged.drop(columns=['Link','links','Unnamed: 0_x','Unnamed: 0_y'])"
   ]
  }
 ],
 "metadata": {
  "kernelspec": {
   "display_name": "Python 3.10.6 64-bit",
   "language": "python",
   "name": "python3"
  },
  "language_info": {
   "codemirror_mode": {
    "name": "ipython",
    "version": 3
   },
   "file_extension": ".py",
   "mimetype": "text/x-python",
   "name": "python",
   "nbconvert_exporter": "python",
   "pygments_lexer": "ipython3",
   "version": "3.10.6"
  },
  "orig_nbformat": 4,
  "vscode": {
   "interpreter": {
    "hash": "916dbcbb3f70747c44a77c7bcd40155683ae19c65e1c03b4aa3499c5328201f1"
   }
  }
 },
 "nbformat": 4,
 "nbformat_minor": 2
}
